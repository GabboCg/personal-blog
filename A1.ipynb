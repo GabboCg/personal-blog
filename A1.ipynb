{
  "nbformat": 4,
  "nbformat_minor": 0,
  "metadata": {
    "kernelspec": {
      "display_name": "Python 3",
      "language": "python",
      "name": "python3"
    },
    "language_info": {
      "codemirror_mode": {
        "name": "ipython",
        "version": 3
      },
      "file_extension": ".py",
      "mimetype": "text/x-python",
      "name": "python",
      "nbconvert_exporter": "python",
      "pygments_lexer": "ipython3",
      "version": "3.6.8"
    },
    "colab": {
      "name": "A1.ipynb",
      "version": "0.3.2",
      "provenance": [],
      "collapsed_sections": [],
      "include_colab_link": true
    }
  },
  "cells": [
    {
      "cell_type": "markdown",
      "metadata": {
        "id": "view-in-github",
        "colab_type": "text"
      },
      "source": [
        "<a href=\"https://colab.research.google.com/github/GaboCg/personal-blog/blob/master/A1.ipynb\" target=\"_parent\"><img src=\"https://colab.research.google.com/assets/colab-badge.svg\" alt=\"Open In Colab\"/></a>"
      ]
    },
    {
      "cell_type": "markdown",
      "metadata": {
        "id": "v9UrcB2Y18-f",
        "colab_type": "text"
      },
      "source": [
        "# Ayudantía 1 \n",
        "\n",
        "**Magister en Finanzas** \n",
        "\n",
        "**Autor**: *Gabriel Cabrera  G.*\n",
        "\n",
        "**Fecha**: 12 de Agosto del 2019"
      ]
    },
    {
      "cell_type": "markdown",
      "metadata": {
        "id": "8GIfYrKj18-j",
        "colab_type": "text"
      },
      "source": [
        "# Condicionales, Loops y otros *Control Flow*\n",
        "\n",
        "1. Construya la siguiente secuencia de números incluyendo los None: *1, 2, None, 4, 5, 6, None*. Luego utilizando un loop sume los elemenos que son númericos (no considerar None)."
      ]
    },
    {
      "cell_type": "code",
      "metadata": {
        "id": "ghnRZiNP18-m",
        "colab_type": "code",
        "outputId": "82aed0cd-1818-4840-e75e-3c90fee9fd43",
        "colab": {
          "base_uri": "https://localhost:8080/",
          "height": 35
        }
      },
      "source": [
        "seq_a = [1, 2, None, 4, 5, 6, None] \n",
        "valor = 0\n",
        "\n",
        "for i in range(len(seq_a)):\n",
        "    if seq_a[i] != None:\n",
        "        valor += seq_a[i]\n",
        "\n",
        "valor"
      ],
      "execution_count": 0,
      "outputs": [
        {
          "output_type": "execute_result",
          "data": {
            "text/plain": [
              "18"
            ]
          },
          "metadata": {
            "tags": []
          },
          "execution_count": 1
        }
      ]
    },
    {
      "cell_type": "markdown",
      "metadata": {
        "id": "Iczcm2Yh18-u",
        "colab_type": "text"
      },
      "source": [
        "2. Construya la siguiente secuencia de números: *1, 2, 3, 4, 5, 6, 7*. Luego utilizando un loop sume los elemenos menores al número 5."
      ]
    },
    {
      "cell_type": "code",
      "metadata": {
        "id": "_tvgQEcJ18-w",
        "colab_type": "code",
        "outputId": "f07932dd-5bda-43c9-94ea-dbf7ddf5a776",
        "colab": {}
      },
      "source": [
        "seq_b = list(range(1, 8, 1))\n",
        "total_hasta_5 = 0\n",
        "   \n",
        "for i in seq_b:\n",
        "    if i == 5:\n",
        "        break\n",
        "    total_hasta_5 += i\n",
        "\n",
        "total_hasta_5"
      ],
      "execution_count": 0,
      "outputs": [
        {
          "output_type": "execute_result",
          "data": {
            "text/plain": [
              "10"
            ]
          },
          "metadata": {
            "tags": []
          },
          "execution_count": 3
        }
      ]
    },
    {
      "cell_type": "markdown",
      "metadata": {
        "id": "8M9IBkG-18-3",
        "colab_type": "text"
      },
      "source": [
        "3. Sume todo los números desde 0 hasta 99.999 que sean múltiplos de 3 o 5.   "
      ]
    },
    {
      "cell_type": "code",
      "metadata": {
        "id": "rKBny08M18-5",
        "colab_type": "code",
        "outputId": "2f8583dc-70b5-4d2c-f5fc-b916cad63cc0",
        "colab": {}
      },
      "source": [
        "suma = 0\n",
        "\n",
        "for i in range(100000):\n",
        "    if i % 3 == 0 or i % 5 == 0:\n",
        "        suma += 1\n",
        "        \n",
        "suma"
      ],
      "execution_count": 0,
      "outputs": [
        {
          "output_type": "execute_result",
          "data": {
            "text/plain": [
              "46667"
            ]
          },
          "metadata": {
            "tags": []
          },
          "execution_count": 4
        }
      ]
    },
    {
      "cell_type": "markdown",
      "metadata": {
        "id": "wRpNyGZw18--",
        "colab_type": "text"
      },
      "source": [
        "# Funciones\n",
        "\n",
        "1. Construya una función que para un número n entregue como output la suma de los cuadrados de $1^2 + 2^2 + 3^2 + 4^2 + ... + n^2$."
      ]
    },
    {
      "cell_type": "code",
      "metadata": {
        "id": "HioMnu0z18_A",
        "colab_type": "code",
        "outputId": "6d9abce0-d5b2-47a9-cc8a-47e14507604d",
        "colab": {}
      },
      "source": [
        "def elevado(n):\n",
        "    numero = list(range(1, n+1))\n",
        "    suma = 0\n",
        "    for i in numero:\n",
        "        suma += i**2\n",
        "    return suma    \n",
        "\n",
        "elevado(1)\n",
        "elevado(3)\n",
        "elevado(5)"
      ],
      "execution_count": 0,
      "outputs": [
        {
          "output_type": "execute_result",
          "data": {
            "text/plain": [
              "55"
            ]
          },
          "metadata": {
            "tags": []
          },
          "execution_count": 6
        }
      ]
    },
    {
      "cell_type": "markdown",
      "metadata": {
        "id": "WDz9VIEx18_G",
        "colab_type": "text"
      },
      "source": [
        "2. Contruya una función que entregue como output si un número es o no divisible por 2."
      ]
    },
    {
      "cell_type": "code",
      "metadata": {
        "id": "RvTkpOil18_I",
        "colab_type": "code",
        "outputId": "6846ce8d-c772-41eb-bc3f-f89ad54857cd",
        "colab": {}
      },
      "source": [
        "def divisible(n):\n",
        "    if n % 2 is 0:\n",
        "        print(\"Es dividible\")\n",
        "    else:\n",
        "        print(\"No es divisible\")\n",
        "\n",
        "divisible(2)"
      ],
      "execution_count": 0,
      "outputs": [
        {
          "output_type": "stream",
          "text": [
            "Es dividible\n"
          ],
          "name": "stdout"
        }
      ]
    },
    {
      "cell_type": "markdown",
      "metadata": {
        "id": "RQkZxFrL18_N",
        "colab_type": "text"
      },
      "source": [
        "3. Construya una función que entregue la media aritmética o media geométrica de un conjunto de datos."
      ]
    },
    {
      "cell_type": "code",
      "metadata": {
        "id": "mD4dtiGq18_P",
        "colab_type": "code",
        "outputId": "3ceee10f-fa4d-4f10-fbc1-b2e5b1328960",
        "colab": {}
      },
      "source": [
        "def media_aritmetica(x):\n",
        "    return sum(x)/len(x)\n",
        "\n",
        "# tener presente el uso de python 2.x, debe ser float. e.g type(3/3) int, en python 3.x es float\n",
        "datos = [1.0, 2.0, 3.0, 4.0, 5.0, 6.0]\n",
        "media_aritmetica(datos)"
      ],
      "execution_count": 0,
      "outputs": [
        {
          "output_type": "execute_result",
          "data": {
            "text/plain": [
              "3.5"
            ]
          },
          "metadata": {
            "tags": []
          },
          "execution_count": 5
        }
      ]
    },
    {
      "cell_type": "markdown",
      "metadata": {
        "id": "9ojBURep18_U",
        "colab_type": "text"
      },
      "source": [
        "# Introducción a Numpy \n",
        "\n",
        "## Ejercicios Básicos\n",
        "\n",
        "1. Genere la siguiente matriz:\n",
        "\n",
        "    $$\n",
        "    A = \\begin{pmatrix}\n",
        "    3 & 0 & 2 \\\\\n",
        "    2 & 0 & 2 \\\\\n",
        "    0 & 1 & 1\n",
        "    \\end{pmatrix}\n",
        "    $$"
      ]
    },
    {
      "cell_type": "code",
      "metadata": {
        "id": "tQSUYbNJ18_W",
        "colab_type": "code",
        "colab": {}
      },
      "source": [
        "import numpy as np\n",
        "from numpy.linalg import inv\n",
        "\n",
        "A = np.array([3, 0, 2, 2, 0, 2, 0, 1, 1]).reshape(3,3)"
      ],
      "execution_count": 0,
      "outputs": []
    },
    {
      "cell_type": "markdown",
      "metadata": {
        "id": "2_fDk9Th18_b",
        "colab_type": "text"
      },
      "source": [
        "2. Encuentre la transpuesta de la matriz A."
      ]
    },
    {
      "cell_type": "code",
      "metadata": {
        "id": "cPvvri6T18_c",
        "colab_type": "code",
        "outputId": "2f70a75e-48f8-4a37-e2a1-f4f818906b44",
        "colab": {}
      },
      "source": [
        "A.T\n",
        "np.transpose(A)"
      ],
      "execution_count": 0,
      "outputs": [
        {
          "output_type": "execute_result",
          "data": {
            "text/plain": [
              "array([[3, 2, 0],\n",
              "       [0, 0, 1],\n",
              "       [2, 2, 1]])"
            ]
          },
          "metadata": {
            "tags": []
          },
          "execution_count": 11
        }
      ]
    },
    {
      "cell_type": "markdown",
      "metadata": {
        "id": "AR0QPFq_18_j",
        "colab_type": "text"
      },
      "source": [
        "3. Encuentre la matriz inversa de A."
      ]
    },
    {
      "cell_type": "code",
      "metadata": {
        "id": "q_wTENi118_k",
        "colab_type": "code",
        "outputId": "e1bb3197-0895-4489-f87e-616d0451c257",
        "colab": {}
      },
      "source": [
        "inv(A)"
      ],
      "execution_count": 0,
      "outputs": [
        {
          "output_type": "execute_result",
          "data": {
            "text/plain": [
              "array([[ 1. , -1. ,  0. ],\n",
              "       [ 1. , -1.5,  1. ],\n",
              "       [-1. ,  1.5,  0. ]])"
            ]
          },
          "metadata": {
            "tags": []
          },
          "execution_count": 12
        }
      ]
    },
    {
      "cell_type": "markdown",
      "metadata": {
        "id": "ixU072CR18_o",
        "colab_type": "text"
      },
      "source": [
        "4. Genere las siguientes matrices:\n",
        "    \n",
        "    $$\n",
        "    B = \\begin{pmatrix}\n",
        "    2 & 4 \\\\\n",
        "    5 & -6\n",
        "    \\end{pmatrix}\n",
        "    \\hskip 1em \n",
        "    \\text{y}\n",
        "    \\hskip 1em \n",
        "    C = \\begin{pmatrix}\n",
        "    9 & -3 \\\\\n",
        "    3 & 6\n",
        "    \\end{pmatrix}\n",
        "    $$\n",
        "    \n",
        "    a. Obtenga la suma de B + C."
      ]
    },
    {
      "cell_type": "code",
      "metadata": {
        "id": "9eZbC3sT18_q",
        "colab_type": "code",
        "outputId": "7008d2a4-669e-4fff-ac4a-4748f820d856",
        "colab": {}
      },
      "source": [
        "B = np.array([2, 4, 5, -6]).reshape(2, 2)\n",
        "C = np.array([9, -3, 3, 6]).reshape(2, 2)\n",
        "\n",
        "B + C"
      ],
      "execution_count": 0,
      "outputs": [
        {
          "output_type": "execute_result",
          "data": {
            "text/plain": [
              "array([[11,  1],\n",
              "       [ 8,  0]])"
            ]
          },
          "metadata": {
            "tags": []
          },
          "execution_count": 13
        }
      ]
    },
    {
      "cell_type": "markdown",
      "metadata": {
        "id": "El2FZjjh18_u",
        "colab_type": "text"
      },
      "source": [
        "    b. Obtenga el producto punto entre B y C."
      ]
    },
    {
      "cell_type": "code",
      "metadata": {
        "id": "cddTH9_v18_v",
        "colab_type": "code",
        "outputId": "0b5d7963-85b1-46f1-8221-b5a95f412160",
        "colab": {}
      },
      "source": [
        "np.dot(B, C)"
      ],
      "execution_count": 0,
      "outputs": [
        {
          "output_type": "execute_result",
          "data": {
            "text/plain": [
              "array([[ 30,  18],\n",
              "       [ 27, -51]])"
            ]
          },
          "metadata": {
            "tags": []
          },
          "execution_count": 15
        }
      ]
    },
    {
      "cell_type": "markdown",
      "metadata": {
        "id": "1gpJszyI18_0",
        "colab_type": "text"
      },
      "source": [
        "## Ejercicios Intermedios\n",
        "\n",
        "1. Utilizando un loop, genera una lista que almacene los valores de la tercera columna de la matriz A. "
      ]
    },
    {
      "cell_type": "code",
      "metadata": {
        "id": "rebgejNc18_3",
        "colab_type": "code",
        "outputId": "78929a88-3c5d-47fc-f572-49c00d260aa0",
        "colab": {}
      },
      "source": [
        "lista_vacia = []\n",
        "\n",
        "for i in range(3):\n",
        "     lista_vacia.append(A[i,2])\n",
        "\n",
        "lista_vacia"
      ],
      "execution_count": 0,
      "outputs": [
        {
          "output_type": "execute_result",
          "data": {
            "text/plain": [
              "[2, 2, 1]"
            ]
          },
          "metadata": {
            "tags": []
          },
          "execution_count": 17
        }
      ]
    },
    {
      "cell_type": "markdown",
      "metadata": {
        "id": "Ugf-ofdj18_9",
        "colab_type": "text"
      },
      "source": [
        "2. Use matrices para resolver los siguientes sistemas de ecuaciones:\n",
        "\n",
        "    a. \n",
        "    $$\n",
        "    \\begin{aligned}\n",
        "    a + b + c & = 6   \\\\\n",
        "    3a - 2b + c & = 2 \\\\\n",
        "    2a + b - c & = 1  \n",
        "    \\end{aligned}\n",
        "    $$\n",
        "    \n",
        "    b.\n",
        "    $$\n",
        "    \\begin{aligned}\n",
        "    3a + 4b - 5c + d & = 10 \\\\\n",
        "    2a + 2b + 2c - d & = 5  \\\\\n",
        "    a - b + 5c - 5d & = 7   \\\\\n",
        "    5a + d & = 4           \n",
        "    \\end{aligned}\n",
        "    $$"
      ]
    },
    {
      "cell_type": "code",
      "metadata": {
        "id": "6LD7gaL-18_-",
        "colab_type": "code",
        "outputId": "29f78e7c-590c-4fbc-bba9-9e2279019252",
        "colab": {}
      },
      "source": [
        "# 2.a\n",
        "a = np.array([1, 1, 1, 3, -2, 1, 2, 1, -1]).reshape(3,3)\n",
        "b = np.array([6, 2, 1]).reshape(-1, 1)\n",
        "\n",
        "print(np.linalg.solve(a,b))"
      ],
      "execution_count": 0,
      "outputs": [
        {
          "output_type": "stream",
          "text": [
            "[[1.]\n",
            " [2.]\n",
            " [3.]]\n"
          ],
          "name": "stdout"
        }
      ]
    },
    {
      "cell_type": "code",
      "metadata": {
        "id": "_eE5Da6319AB",
        "colab_type": "code",
        "outputId": "12f54598-373e-4f41-cc36-5eb6f6a4f61c",
        "colab": {}
      },
      "source": [
        "# 2.b\n",
        "c = np.array([3, 4, -5, 1, 2, 2, 2, -1, 1, -1, 5, -5, 5, 0, 0, 1]).reshape(4,4)\n",
        "d = np.array([10, 5, 7, 4]).reshape(-1, 1)\n",
        " \n",
        "print(np.linalg.solve(c,d))"
      ],
      "execution_count": 0,
      "outputs": [
        {
          "output_type": "stream",
          "text": [
            "[[ 1.24778761]\n",
            " [ 1.01769912]\n",
            " [-0.88495575]\n",
            " [-2.23893805]]\n"
          ],
          "name": "stdout"
        }
      ]
    },
    {
      "cell_type": "markdown",
      "metadata": {
        "id": "5y4QLJIM19AG",
        "colab_type": "text"
      },
      "source": [
        "## Ejercicios Avanzados\n",
        "\n",
        "El estimador MCO minimiza la suma de los errores de predicción al cuadrado,\n",
        "$\\sum^{n}_{i=1}(Y_{i} - \\beta_{0}X_{1i} - ... - \\beta_{k}X_{ki})^2$. La fórmula del estimador MCO se obtiene tomando\n",
        "la derivada de la suma de los errores de predicción al cuadrado respecto de cada elemento del vector de\n",
        "coeficientes, igualando estas derivadas a cero y resolviendo para el estimador $\\hat{\\beta}$, se obtiene:\n",
        "\n",
        "$$\n",
        "\\mathbf{\\hat{\\beta}} = (\\mathbf{X'X})^{-1}\\mathbf{X'Y}\n",
        "$$\n",
        "\n",
        "a. Utilizando la librería Pandas, importe la base de datos \\dataset{Advertising.xlsx}, la que Consiste en el presupuesto gastado en publicidad (*TV*, *radio*, *newspaper*) de 200 productos. "
      ]
    },
    {
      "cell_type": "code",
      "metadata": {
        "id": "-00n1qpD19AH",
        "colab_type": "code",
        "colab": {}
      },
      "source": [
        "import pandas as pd\n",
        "\n",
        "advertising = pd.read_csv('Advertising.csv')"
      ],
      "execution_count": 0,
      "outputs": []
    },
    {
      "cell_type": "markdown",
      "metadata": {
        "id": "JH_sdgKi19AL",
        "colab_type": "text"
      },
      "source": [
        "b. Utilizando Numpy obtenga $\\mathbf{\\hat{\\beta}}$ de la siguiente regresión:\n",
        "\n",
        "$$\n",
        "Sales_{i} = \\beta_{0} + \\beta_{1}TV_{i} + \\varepsilon_{i}\n",
        "$$    "
      ]
    },
    {
      "cell_type": "code",
      "metadata": {
        "id": "LGjBMhNp19AR",
        "colab_type": "code",
        "colab": {}
      },
      "source": [
        "# Utilizando solo numpy creamos la regresion sales ~ TV \n",
        "n = np.array(advertising.sales).size\n",
        "y = np.array(advertising.sales).reshape(n, 1)\n",
        "x = np.array(advertising.TV).reshape(n, 1)\n",
        "X = np.append(np.ones([n, 1]), x, axis=1).reshape(n, 2)\n",
        "\n",
        "X_inv = np.linalg.inv(np.dot(np.transpose(X),X))\n",
        "X_trans_y = np.dot(np.transpose(X),y)\n",
        "betas = np.dot(X_inv,X_trans_y)"
      ],
      "execution_count": 0,
      "outputs": []
    },
    {
      "cell_type": "code",
      "metadata": {
        "id": "zu1t7d6W19AW",
        "colab_type": "code",
        "outputId": "9ebe26d7-4552-4d5e-eb81-872244df356c",
        "colab": {}
      },
      "source": [
        "# constate b0 \n",
        "np.around(betas[0], 3)"
      ],
      "execution_count": 0,
      "outputs": [
        {
          "output_type": "execute_result",
          "data": {
            "text/plain": [
              "array([7.033])"
            ]
          },
          "metadata": {
            "tags": []
          },
          "execution_count": 24
        }
      ]
    },
    {
      "cell_type": "code",
      "metadata": {
        "id": "1rsI-_aF19Aa",
        "colab_type": "code",
        "outputId": "66c96e54-fd23-4224-d1d2-bee95445964f",
        "colab": {}
      },
      "source": [
        "# coeficiente b1\n",
        "np.around(betas[1], 3)"
      ],
      "execution_count": 0,
      "outputs": [
        {
          "output_type": "execute_result",
          "data": {
            "text/plain": [
              "array([0.048])"
            ]
          },
          "metadata": {
            "tags": []
          },
          "execution_count": 25
        }
      ]
    }
  ]
}